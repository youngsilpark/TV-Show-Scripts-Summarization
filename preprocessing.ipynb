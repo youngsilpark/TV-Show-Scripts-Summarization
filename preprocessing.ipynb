{
 "cells": [
  {
   "cell_type": "code",
   "execution_count": 1,
   "metadata": {},
   "outputs": [],
   "source": [
    "import json\n",
    "import pandas as pd\n",
    "import os\n",
    "from tqdm import tqdm"
   ]
  },
  {
   "cell_type": "code",
   "execution_count": 10,
   "metadata": {},
   "outputs": [],
   "source": [
    "def json_to_df(folder, category, cond) : \n",
    "    def get_text(data_path, file_name):\n",
    "        with open(data_path+file_name+'.json', 'rb') as f:\n",
    "            data = json.load(f)\n",
    "            \n",
    "        df1 = pd.DataFrame([data['Meta']['passage']], columns = ['passage'])\n",
    "        df2 = pd.DataFrame([data['Annotation']])\n",
    "        df = pd.concat([df1,df2], axis=1)\n",
    "\n",
    "        return df\n",
    "\n",
    "    data_path = './data/' + folder + '/' + category + '/' + cond + '/'\n",
    "  \n",
    "    start_name = 'SCRIPT'\n",
    "    json_list = [file for file in os.listdir(data_path) if file.startswith(start_name)]\n",
    "\n",
    "    name_list = []\n",
    "    for l in json_list:\n",
    "    # for l in json_list[:50]:\n",
    "        name_list.append(l.split('.')[0])\n",
    "\n",
    "    for a in name_list:\n",
    "        globals()[f'{a}'] = get_text(data_path, f'{a}')\n",
    "\n",
    "    df_concat = pd.concat([globals()[f'{name_list[i]}'] for i in range(len(name_list))], ignore_index=True)\n",
    "    \n",
    "    return df_concat\n"
   ]
  },
  {
   "cell_type": "code",
   "execution_count": 116,
   "metadata": {},
   "outputs": [
    {
     "name": "stderr",
     "output_type": "stream",
     "text": [
      "100%|██████████| 5/5 [06:04<00:00, 72.82s/it]\n"
     ]
    }
   ],
   "source": [
    "# cate_list = ['enter','c_event','culture','fm_drama', 'fs_drama', 'history']\n",
    "\n",
    "# # train\n",
    "# df_3sent = json_to_df('train', cate_list[0], '3sent')\n",
    "# df_20per = json_to_df('train', cate_list[0], '20per')\n",
    "\n",
    "# for cate in tqdm(cate_list[1:]) :\n",
    "#     df_3sent = pd.concat([df_3sent, json_to_df('train', cate, '3sent')])\n",
    "#     df_20per = pd.concat([df_20per, json_to_df('train', cate, '20per')]) "
   ]
  },
  {
   "cell_type": "code",
   "execution_count": 112,
   "metadata": {},
   "outputs": [
    {
     "name": "stderr",
     "output_type": "stream",
     "text": [
      "100%|██████████| 5/5 [01:59<00:00, 23.95s/it]\n"
     ]
    }
   ],
   "source": [
    "# cate_list = ['enter','c_event','culture','fm_drama', 'fs_drama', 'history']\n",
    "\n",
    "# # test\n",
    "# df_3sent = json_to_df('test', cate_list[0], '3sent')\n",
    "# df_20per = json_to_df('test', cate_list[0], '20per')\n",
    "    \n",
    "# for cate in tqdm(cate_list[1:]) :\n",
    "#     df_3sent = pd.concat([df_3sent, json_to_df('test', cate, '3sent')])\n",
    "#     df_20per = pd.concat([df_20per, json_to_df('test', cate, '20per')]) "
   ]
  },
  {
   "cell_type": "code",
   "execution_count": 11,
   "metadata": {},
   "outputs": [
    {
     "name": "stderr",
     "output_type": "stream",
     "text": [
      "100%|██████████| 5/5 [00:00<00:00,  9.44it/s]\n"
     ]
    }
   ],
   "source": [
    "cate_list = ['enter','c_event','culture','fm_drama', 'fs_drama', 'history']\n",
    "\n",
    "# train\n",
    "df_3sent = json_to_df('sample', cate_list[0], '3sent')\n",
    "df_20per = json_to_df('sample', cate_list[0], '20per')\n",
    "\n",
    "for cate in tqdm(cate_list[1:]) :\n",
    "    df_3sent = pd.concat([df_3sent, json_to_df('sample', cate, '3sent')])\n",
    "    df_20per = pd.concat([df_20per, json_to_df('sample', cate, '20per')]) "
   ]
  },
  {
   "cell_type": "code",
   "execution_count": 12,
   "metadata": {},
   "outputs": [],
   "source": [
    "df_3sent.drop(['Summary1','Summary3'], axis=1, inplace=True)\n",
    "df_20per.drop(['Summary1','Summary2'], axis=1, inplace=True)"
   ]
  },
  {
   "cell_type": "code",
   "execution_count": 13,
   "metadata": {},
   "outputs": [
    {
     "data": {
      "text/html": [
       "<div>\n",
       "<style scoped>\n",
       "    .dataframe tbody tr th:only-of-type {\n",
       "        vertical-align: middle;\n",
       "    }\n",
       "\n",
       "    .dataframe tbody tr th {\n",
       "        vertical-align: top;\n",
       "    }\n",
       "\n",
       "    .dataframe thead th {\n",
       "        text-align: right;\n",
       "    }\n",
       "</style>\n",
       "<table border=\"1\" class=\"dataframe\">\n",
       "  <thead>\n",
       "    <tr style=\"text-align: right;\">\n",
       "      <th></th>\n",
       "      <th>news</th>\n",
       "      <th>summary</th>\n",
       "    </tr>\n",
       "  </thead>\n",
       "  <tbody>\n",
       "    <tr>\n",
       "      <th>0</th>\n",
       "      <td>화자1]개그맨 김경진이 방송을 통해 공개구혼에 나섰습니다.\\n화자2]김경진은 9일 ...</td>\n",
       "      <td>개그맨 김경진이 KBS2 건강 프로그램 '비타민'에 출연해서 최희 아나운서에게 공개...</td>\n",
       "    </tr>\n",
       "    <tr>\n",
       "      <th>1</th>\n",
       "      <td>화자1]서준영이 개성파 조연3인방으로부터 칭찬 릴레이를 받았습니다.\\n화자2]지난 ...</td>\n",
       "      <td>KBS 드라마 스페셜 연작시리즈 시즌3 드라마 '시리우스'에서 개성파 조연 3인방으...</td>\n",
       "    </tr>\n",
       "    <tr>\n",
       "      <th>2</th>\n",
       "      <td>화자1]전 축구 국가대표 안정환의 아내 이혜원이 남편을 위해 유산사실을 숨겼다고 밝...</td>\n",
       "      <td>축구선수 안정환의 아내 이혜원은 지난 15일 방송된 '승승장구'에서 과거 어린 나이...</td>\n",
       "    </tr>\n",
       "    <tr>\n",
       "      <th>3</th>\n",
       "      <td>화자1]가희준과 김갑수가 아슬아슬 ‘은밀한 독대’를 나누는 모습가 공개됐습니다.\\n...</td>\n",
       "      <td>드라마 '전우치'에서 조선을 장악하려는 가희준과 상권과 권력을 빼앗으려는 김갑수가 ...</td>\n",
       "    </tr>\n",
       "    <tr>\n",
       "      <th>4</th>\n",
       "      <td>화자1]배우 서준영이 두 달 동안 동고동락한 배우, 스태프들을 위해 종방연을 개최하...</td>\n",
       "      <td>배우 서준영이 지난 28일 '시리우스' 종방연에서 배우와 감독, 작가 등 스태프 8...</td>\n",
       "    </tr>\n",
       "    <tr>\n",
       "      <th>...</th>\n",
       "      <td>...</td>\n",
       "      <td>...</td>\n",
       "    </tr>\n",
       "    <tr>\n",
       "      <th>45</th>\n",
       "      <td>화자1]사실 신익희 후보가 죽기 전에 신익희후보와 조봉암 후보 사이에서 단일화작업이...</td>\n",
       "      <td>조봉암과 신익희 후보는 단일화를 시도하였다. 하지만 신익희의 급사 후 조봉암은 민주...</td>\n",
       "    </tr>\n",
       "    <tr>\n",
       "      <th>46</th>\n",
       "      <td>화자1]하지만.요.\\n화자2]또한 이 부사.\\n지금까지 통제사의 부관 노릇을 누구보...</td>\n",
       "      <td>화자2는 통제사의 부관 역할을 가장 잘한 게 이 부사라며 통제사를 따르기 싫어하는 ...</td>\n",
       "    </tr>\n",
       "    <tr>\n",
       "      <th>47</th>\n",
       "      <td>화자1]저는 여기서 대학원 다녔을 때 북한사라는수업을 들었어요.\\n어떤 다큐멘터리 ...</td>\n",
       "      <td>천리마는 하루에 1000리를 뛴다고 해서 붙여진 이름이다. 북한에서는 1950년대 ...</td>\n",
       "    </tr>\n",
       "    <tr>\n",
       "      <th>48</th>\n",
       "      <td>화자1]그리고 아예 등산이라는 그러니까.\\n레저문화 자체를 몰랐던 것 같아요.\\n뭔...</td>\n",
       "      <td>김신조는 생포되었다. 김신조는 특수부대원으로 뽑혔으나 사람을 죽일 수 없는 기본의 ...</td>\n",
       "    </tr>\n",
       "    <tr>\n",
       "      <th>49</th>\n",
       "      <td>화자1](해설) 1961년 5월 16일 새벽.\\n서울 도심에 탱크가 나타나.\\n총을...</td>\n",
       "      <td>5월 16일 박정희 소장을 중심으로 한 군인들이 쿠데타를 일으켰다. 5·16 쿠데타...</td>\n",
       "    </tr>\n",
       "  </tbody>\n",
       "</table>\n",
       "<p>600 rows × 2 columns</p>\n",
       "</div>"
      ],
      "text/plain": [
       "                                                 news  \\\n",
       "0   화자1]개그맨 김경진이 방송을 통해 공개구혼에 나섰습니다.\\n화자2]김경진은 9일 ...   \n",
       "1   화자1]서준영이 개성파 조연3인방으로부터 칭찬 릴레이를 받았습니다.\\n화자2]지난 ...   \n",
       "2   화자1]전 축구 국가대표 안정환의 아내 이혜원이 남편을 위해 유산사실을 숨겼다고 밝...   \n",
       "3   화자1]가희준과 김갑수가 아슬아슬 ‘은밀한 독대’를 나누는 모습가 공개됐습니다.\\n...   \n",
       "4   화자1]배우 서준영이 두 달 동안 동고동락한 배우, 스태프들을 위해 종방연을 개최하...   \n",
       "..                                                ...   \n",
       "45  화자1]사실 신익희 후보가 죽기 전에 신익희후보와 조봉암 후보 사이에서 단일화작업이...   \n",
       "46  화자1]하지만.요.\\n화자2]또한 이 부사.\\n지금까지 통제사의 부관 노릇을 누구보...   \n",
       "47  화자1]저는 여기서 대학원 다녔을 때 북한사라는수업을 들었어요.\\n어떤 다큐멘터리 ...   \n",
       "48  화자1]그리고 아예 등산이라는 그러니까.\\n레저문화 자체를 몰랐던 것 같아요.\\n뭔...   \n",
       "49  화자1](해설) 1961년 5월 16일 새벽.\\n서울 도심에 탱크가 나타나.\\n총을...   \n",
       "\n",
       "                                              summary  \n",
       "0   개그맨 김경진이 KBS2 건강 프로그램 '비타민'에 출연해서 최희 아나운서에게 공개...  \n",
       "1   KBS 드라마 스페셜 연작시리즈 시즌3 드라마 '시리우스'에서 개성파 조연 3인방으...  \n",
       "2   축구선수 안정환의 아내 이혜원은 지난 15일 방송된 '승승장구'에서 과거 어린 나이...  \n",
       "3   드라마 '전우치'에서 조선을 장악하려는 가희준과 상권과 권력을 빼앗으려는 김갑수가 ...  \n",
       "4   배우 서준영이 지난 28일 '시리우스' 종방연에서 배우와 감독, 작가 등 스태프 8...  \n",
       "..                                                ...  \n",
       "45  조봉암과 신익희 후보는 단일화를 시도하였다. 하지만 신익희의 급사 후 조봉암은 민주...  \n",
       "46  화자2는 통제사의 부관 역할을 가장 잘한 게 이 부사라며 통제사를 따르기 싫어하는 ...  \n",
       "47  천리마는 하루에 1000리를 뛴다고 해서 붙여진 이름이다. 북한에서는 1950년대 ...  \n",
       "48  김신조는 생포되었다. 김신조는 특수부대원으로 뽑혔으나 사람을 죽일 수 없는 기본의 ...  \n",
       "49  5월 16일 박정희 소장을 중심으로 한 군인들이 쿠데타를 일으켰다. 5·16 쿠데타...  \n",
       "\n",
       "[600 rows x 2 columns]"
      ]
     },
     "execution_count": 13,
     "metadata": {},
     "output_type": "execute_result"
    }
   ],
   "source": [
    "df_3sent.rename(columns={'Summary2':'Summary'}, inplace=True)\n",
    "df_20per.rename(columns={'Summary3':'Summary'}, inplace=True)\n",
    "df = pd.concat([df_3sent, df_20per])\n",
    "df.rename(columns={'passage':'news','Summary':'summary'}, inplace=True)\n",
    "df"
   ]
  },
  {
   "cell_type": "code",
   "execution_count": 14,
   "metadata": {},
   "outputs": [],
   "source": [
    "# df.to_csv('./data/train_contents.tsv', sep='\\t')         # 33,787\n",
    "# df.to_csv('./data/test_contents.tsv', sep='\\t')        # 9,988\n",
    "\n",
    "df.to_csv('./data/sample_contents_600.tsv', sep='\\t')       # 600       \n"
   ]
  }
 ],
 "metadata": {
  "kernelspec": {
   "display_name": "Python 3.8.0 ('py38': conda)",
   "language": "python",
   "name": "python3"
  },
  "language_info": {
   "codemirror_mode": {
    "name": "ipython",
    "version": 3
   },
   "file_extension": ".py",
   "mimetype": "text/x-python",
   "name": "python",
   "nbconvert_exporter": "python",
   "pygments_lexer": "ipython3",
   "version": "3.8.15"
  },
  "orig_nbformat": 4,
  "vscode": {
   "interpreter": {
    "hash": "7ca01b61a0df83195babb290882db0eb8c45e5146125deea0ac23ce526602979"
   }
  }
 },
 "nbformat": 4,
 "nbformat_minor": 2
}
